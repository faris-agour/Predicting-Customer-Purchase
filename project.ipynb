{
 "cells": [
  {
   "cell_type": "code",
   "execution_count": 9,
   "id": "initial_id",
   "metadata": {
    "collapsed": true,
    "ExecuteTime": {
     "end_time": "2025-02-22T19:28:30.489572600Z",
     "start_time": "2025-02-22T19:28:30.481412700Z"
    }
   },
   "outputs": [],
   "source": [
    "import pandas as pd\n",
    "import numpy as np\n",
    "import matplotlib.pyplot as plt\n",
    "import seaborn as sns"
   ]
  },
  {
   "cell_type": "markdown",
   "source": [
    "## Importing the dataset"
   ],
   "metadata": {
    "collapsed": false
   },
   "id": "625579869818d2e5"
  },
  {
   "cell_type": "code",
   "execution_count": 10,
   "outputs": [],
   "source": [
    "df = pd.read_csv(\"CustomerPurchase.csv\")"
   ],
   "metadata": {
    "collapsed": false,
    "ExecuteTime": {
     "end_time": "2025-02-22T19:28:31.903383Z",
     "start_time": "2025-02-22T19:28:31.831133100Z"
    }
   },
   "id": "88f59bd5180e8c28"
  },
  {
   "cell_type": "markdown",
   "source": [
    "## Exploring the dataset"
   ],
   "metadata": {
    "collapsed": false
   },
   "id": "3f7717ad17f178f5"
  },
  {
   "cell_type": "code",
   "execution_count": 11,
   "outputs": [
    {
     "data": {
      "text/plain": "   index  SessionID  Administrative  Administrative_Duration  Informational  \\\n0     65         66               3                87.833333              0   \n1     76         77              10              1005.666667              0   \n2    101        102               4                61.000000              0   \n3    188        189               9               111.500000              1   \n4    196        197               2                56.000000              1   \n\n   Informational_Duration  ProductRelated  ProductRelated_Duration  \\\n0                     0.0              27               798.333333   \n1                     0.0              36              2111.341667   \n2                     0.0              19               607.000000   \n3                    48.5              49              1868.819697   \n4                   144.0              67              2563.783333   \n\n   BounceRates  ExitRates  PageValues  SpecialDay  Weekend Month  \\\n0     0.000000   0.012644   22.916036         0.8    False   Feb   \n1     0.004348   0.014493   11.439412         0.0    False   Feb   \n2     0.000000   0.026984   17.535959         1.0     True   Feb   \n3     0.000000   0.020709    1.706015         0.0    False   Mar   \n4     0.000000   0.005797   19.342650         0.0    False   Mar   \n\n         CustomerType  Purchase  \n0  Returning_Customer         1  \n1  Returning_Customer         1  \n2  Returning_Customer         1  \n3  Returning_Customer         1  \n4        New_Customer         1  ",
      "text/html": "<div>\n<style scoped>\n    .dataframe tbody tr th:only-of-type {\n        vertical-align: middle;\n    }\n\n    .dataframe tbody tr th {\n        vertical-align: top;\n    }\n\n    .dataframe thead th {\n        text-align: right;\n    }\n</style>\n<table border=\"1\" class=\"dataframe\">\n  <thead>\n    <tr style=\"text-align: right;\">\n      <th></th>\n      <th>index</th>\n      <th>SessionID</th>\n      <th>Administrative</th>\n      <th>Administrative_Duration</th>\n      <th>Informational</th>\n      <th>Informational_Duration</th>\n      <th>ProductRelated</th>\n      <th>ProductRelated_Duration</th>\n      <th>BounceRates</th>\n      <th>ExitRates</th>\n      <th>PageValues</th>\n      <th>SpecialDay</th>\n      <th>Weekend</th>\n      <th>Month</th>\n      <th>CustomerType</th>\n      <th>Purchase</th>\n    </tr>\n  </thead>\n  <tbody>\n    <tr>\n      <th>0</th>\n      <td>65</td>\n      <td>66</td>\n      <td>3</td>\n      <td>87.833333</td>\n      <td>0</td>\n      <td>0.0</td>\n      <td>27</td>\n      <td>798.333333</td>\n      <td>0.000000</td>\n      <td>0.012644</td>\n      <td>22.916036</td>\n      <td>0.8</td>\n      <td>False</td>\n      <td>Feb</td>\n      <td>Returning_Customer</td>\n      <td>1</td>\n    </tr>\n    <tr>\n      <th>1</th>\n      <td>76</td>\n      <td>77</td>\n      <td>10</td>\n      <td>1005.666667</td>\n      <td>0</td>\n      <td>0.0</td>\n      <td>36</td>\n      <td>2111.341667</td>\n      <td>0.004348</td>\n      <td>0.014493</td>\n      <td>11.439412</td>\n      <td>0.0</td>\n      <td>False</td>\n      <td>Feb</td>\n      <td>Returning_Customer</td>\n      <td>1</td>\n    </tr>\n    <tr>\n      <th>2</th>\n      <td>101</td>\n      <td>102</td>\n      <td>4</td>\n      <td>61.000000</td>\n      <td>0</td>\n      <td>0.0</td>\n      <td>19</td>\n      <td>607.000000</td>\n      <td>0.000000</td>\n      <td>0.026984</td>\n      <td>17.535959</td>\n      <td>1.0</td>\n      <td>True</td>\n      <td>Feb</td>\n      <td>Returning_Customer</td>\n      <td>1</td>\n    </tr>\n    <tr>\n      <th>3</th>\n      <td>188</td>\n      <td>189</td>\n      <td>9</td>\n      <td>111.500000</td>\n      <td>1</td>\n      <td>48.5</td>\n      <td>49</td>\n      <td>1868.819697</td>\n      <td>0.000000</td>\n      <td>0.020709</td>\n      <td>1.706015</td>\n      <td>0.0</td>\n      <td>False</td>\n      <td>Mar</td>\n      <td>Returning_Customer</td>\n      <td>1</td>\n    </tr>\n    <tr>\n      <th>4</th>\n      <td>196</td>\n      <td>197</td>\n      <td>2</td>\n      <td>56.000000</td>\n      <td>1</td>\n      <td>144.0</td>\n      <td>67</td>\n      <td>2563.783333</td>\n      <td>0.000000</td>\n      <td>0.005797</td>\n      <td>19.342650</td>\n      <td>0.0</td>\n      <td>False</td>\n      <td>Mar</td>\n      <td>New_Customer</td>\n      <td>1</td>\n    </tr>\n  </tbody>\n</table>\n</div>"
     },
     "execution_count": 11,
     "metadata": {},
     "output_type": "execute_result"
    }
   ],
   "source": [
    "df.head()"
   ],
   "metadata": {
    "collapsed": false,
    "ExecuteTime": {
     "end_time": "2025-02-22T19:28:32.807856600Z",
     "start_time": "2025-02-22T19:28:32.788748100Z"
    }
   },
   "id": "df2b8238019ec93d"
  },
  {
   "cell_type": "code",
   "execution_count": 12,
   "outputs": [
    {
     "name": "stdout",
     "output_type": "stream",
     "text": [
      "<class 'pandas.core.frame.DataFrame'>\n",
      "RangeIndex: 6666 entries, 0 to 6665\n",
      "Data columns (total 16 columns):\n",
      " #   Column                   Non-Null Count  Dtype  \n",
      "---  ------                   --------------  -----  \n",
      " 0   index                    6666 non-null   int64  \n",
      " 1   SessionID                6666 non-null   int64  \n",
      " 2   Administrative           6666 non-null   int64  \n",
      " 3   Administrative_Duration  6666 non-null   float64\n",
      " 4   Informational            6666 non-null   int64  \n",
      " 5   Informational_Duration   6666 non-null   float64\n",
      " 6   ProductRelated           6666 non-null   int64  \n",
      " 7   ProductRelated_Duration  6666 non-null   float64\n",
      " 8   BounceRates              6666 non-null   float64\n",
      " 9   ExitRates                6666 non-null   float64\n",
      " 10  PageValues               6666 non-null   float64\n",
      " 11  SpecialDay               6666 non-null   float64\n",
      " 12  Weekend                  6666 non-null   bool   \n",
      " 13  Month                    6666 non-null   object \n",
      " 14  CustomerType             6666 non-null   object \n",
      " 15  Purchase                 6666 non-null   int64  \n",
      "dtypes: bool(1), float64(7), int64(6), object(2)\n",
      "memory usage: 787.8+ KB\n"
     ]
    }
   ],
   "source": [
    "df.info()"
   ],
   "metadata": {
    "collapsed": false,
    "ExecuteTime": {
     "end_time": "2025-02-22T19:28:33.738527900Z",
     "start_time": "2025-02-22T19:28:33.725686100Z"
    }
   },
   "id": "e6ab10e34c397942"
  },
  {
   "cell_type": "code",
   "execution_count": null,
   "outputs": [],
   "source": [],
   "metadata": {
    "collapsed": false
   },
   "id": "8cac9c4a41fc187c"
  }
 ],
 "metadata": {
  "kernelspec": {
   "display_name": "Python 3",
   "language": "python",
   "name": "python3"
  },
  "language_info": {
   "codemirror_mode": {
    "name": "ipython",
    "version": 2
   },
   "file_extension": ".py",
   "mimetype": "text/x-python",
   "name": "python",
   "nbconvert_exporter": "python",
   "pygments_lexer": "ipython2",
   "version": "2.7.6"
  }
 },
 "nbformat": 4,
 "nbformat_minor": 5
}
